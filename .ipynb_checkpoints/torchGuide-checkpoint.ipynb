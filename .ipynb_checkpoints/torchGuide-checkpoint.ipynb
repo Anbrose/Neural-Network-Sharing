{
 "cells": [
  {
   "cell_type": "code",
   "execution_count": null,
   "metadata": {},
   "outputs": [],
   "source": [
    "#torch.linspace(-1,1, 100)                                   ===>tensor([-1.0000, -0.9798,..0.9798,  1.0000])\n",
    "#torch.unsqueeze(torch.linspace(-1,1, 100), dim=1)           ===>tensor([[-1.0000],[-0.9798],[-0.9596],[-0.9394],[-0.9192],..[ 0.9798],[ 1.0000]])"
   ]
  }
 ],
 "metadata": {
  "kernelspec": {
   "display_name": "Python 3",
   "language": "python",
   "name": "python3"
  },
  "language_info": {
   "codemirror_mode": {
    "name": "ipython",
    "version": 3
   },
   "file_extension": ".py",
   "mimetype": "text/x-python",
   "name": "python",
   "nbconvert_exporter": "python",
   "pygments_lexer": "ipython3",
   "version": "3.8.3"
  }
 },
 "nbformat": 4,
 "nbformat_minor": 4
}
