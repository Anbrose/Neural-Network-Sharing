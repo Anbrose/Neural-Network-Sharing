{
 "cells": [
  {
   "cell_type": "code",
   "execution_count": null,
   "metadata": {},
   "outputs": [],
   "source": [
    "#pytorch中 神经网络层中的权值w的tensor均为叶子节点 如：\n",
    "#W1 = torch.tensor(np.random.normal(0, 0.01, size=(num_inputs, num_hiddens1)), dtype=torch.float, requires_grad=True)\n",
    "#a的requires_grad属性为False，其不要求获得梯度，那么a这个tensor在反向传播时其实是“无意义”的，可认为是游离在计算图之外的\n",
    "#https://zhuanlan.zhihu.com/p/85506092\n",
    "\n",
    "#torch.arange(1,6)\n",
    "# ===>tensor([1, 2, 3, 4, 5])\n",
    "\n",
    "#均匀张量\n",
    "#torch.linspace(-1,1, 100)                               \n",
    "# ===>tensor([-1.0000, -0.9798,..0.9798,  1.0000])\n",
    "\n",
    "#torch.one(size)\n",
    "#生成size的均为1的张量\n",
    "\n",
    "#均匀分布           标准正态分布        离散正态分布\n",
    "#torch.rand(5,1)   torch.randn(5,1)   torch.normal(means, std, out=None)                                  \n",
    "# ===>tensor([[0.9653],[0.5581],[0.1648],[0.3715],[0.2194]])\n",
    "\n",
    "#torch.range(1,6)\n",
    "# ===>tensor([1., 2., 3., 4., 5., 6.])\n",
    "\n",
    "#交叉熵\n",
    "# ===>cross_entropy = -tf.reduce_mean(y_ * tf.log(tf.clip_by_value(y, 1e-10, 1.0)))\n",
    "\n",
    "#tensor([1., 2., 3., 4., 5., 6.]).view(x,y)\n",
    "#使张量变为x行y列\n",
    "\n",
    "#torch.unsqueeze(torch.linspace(-1,1, 100), dim=1)           \n",
    "# ===>tensor([[-1.0000],[-0.9798],[-0.9596],[-0.9394],[-0.9192],..[ 0.9798],[ 1.0000]])\n",
    "\n",
    "#torch.zeros_like(tensor([[0.9653],[0.5581],[0.1648],[0.3715],[0.2194]])) \n",
    "# ===>tensor([[0.],[0.],[0.],[0.],[0.]])\n",
    "\n",
    "\n"
   ]
  }
 ],
 "metadata": {
  "kernelspec": {
   "display_name": "Python 3",
   "language": "python",
   "name": "python3"
  },
  "language_info": {
   "codemirror_mode": {
    "name": "ipython",
    "version": 3
   },
   "file_extension": ".py",
   "mimetype": "text/x-python",
   "name": "python",
   "nbconvert_exporter": "python",
   "pygments_lexer": "ipython3",
   "version": "3.8.3"
  }
 },
 "nbformat": 4,
 "nbformat_minor": 4
}